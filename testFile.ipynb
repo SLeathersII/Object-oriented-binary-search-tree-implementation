{
 "cells": [
  {
   "cell_type": "code",
   "execution_count": 1,
   "metadata": {},
   "outputs": [],
   "source": [
    "# import import_ipynb\n",
    "from Card import Card\n",
    "from PlayerHand import PlayerHand"
   ]
  },
  {
   "cell_type": "code",
   "execution_count": 63,
   "metadata": {},
   "outputs": [],
   "source": [
    "def test_Card():\n",
    "    \n",
    "    k = Card('s','2')\n",
    "    l = Card('s','3')\n",
    "    n = Card('s','a')\n",
    "    m = Card('s','k')\n",
    "    a = Card('s','j')\n",
    "    b = Card('c','q')\n",
    "    v = Card('h','2')\n",
    "    f = Card('h','2')\n",
    "    # less than\n",
    "    assert (k < l) == True\n",
    "    assert (v < l) == True\n",
    "    assert (v < k) == True # ranked by suit\n",
    "    assert (a < b) == True\n",
    "    assert (n < k) == True\n",
    "    assert (n < b) == True\n",
    "    \n",
    "    # ==\n",
    "    assert v == f\n",
    "    \n",
    "    # get\n",
    "    assert (f.getCount() == 0) == False\n",
    "    assert (f.getRank() == '2') == True\n",
    "    assert (f.getSuit() == 'H') == True"
   ]
  },
  {
   "cell_type": "code",
   "execution_count": 69,
   "metadata": {},
   "outputs": [],
   "source": [
    "def test_PlayerHand():\n",
    "    hand = PlayerHand()\n",
    "    hand.put('D', 'A')\n",
    "    hand.put('S', 'K')\n",
    "    hand.put('S', '2')\n",
    "    hand.put('C', 'q')\n",
    "    hand.put('H', '7')\n",
    "    hand.put('S', 'K')\n",
    "    hand.put('C', 'K')\n",
    "    \n",
    "    # test total cards\n",
    "    assert hand.size == 7\n",
    "    assert hand.delete('s','k') == True\n",
    "    assert hand.size == 6\n",
    "    assert hand.delete('s','k') == True\n",
    "    assert hand.delete('s','k') == False\n",
    "    assert hand.delete('s','j') == False\n",
    "    assert hand.size == 5\n",
    "    \n",
    "    # delete leaf node\n",
    "    hand = PlayerHand()\n",
    "    hand.put('h','9')\n",
    "    hand.put('d','9') # leaf\n",
    "    hand.put('s','10') # leaf\n",
    "    assert hand.delete('s','10') == True\n",
    "    assert hand.delete('d','9') == True\n",
    "    \n",
    "    # is empty\n",
    "    assert hand.delete('h','9') == True # last item\n",
    "    assert hand.isEmpty() == True\n",
    "    \n",
    "    # delete node with 2 children\n",
    "    hand = PlayerHand()\n",
    "    hand.put('h','9')\n",
    "    hand.put('d','9') # leaf\n",
    "    hand.put('s','10') # leaf\n",
    "    assert hand.delete('h','9') == True # delete root node/ two children\n",
    "    \n",
    "    \n",
    "    \n",
    "    # put left children\n",
    "    hand = PlayerHand()\n",
    "    hand.put('h','9')\n",
    "    hand.put('d','9') # left child\n",
    "    hand.put('s','10') # right child\n",
    "    assert hand.get('d','9').isLeftChild() == True\n",
    "    # put right child\n",
    "    assert hand.get('s','10').isRightChild() == True\n",
    "    \n",
    "    \n",
    "    # "
   ]
  },
  {
   "cell_type": "markdown",
   "metadata": {},
   "source": [
    "test_PlayerHand()\n",
    "test_Card()"
   ]
  },
  {
   "cell_type": "markdown",
   "metadata": {},
   "source": [
    "hand = PlayerHand()\n",
    "hand.put('h','9')\n",
    "hand.put('d','9') # leaf\n",
    "hand.put('s','10') # leaf\n",
    "hand.delete('d','9')\n",
    "print(hand.root)"
   ]
  },
  {
   "cell_type": "markdown",
   "metadata": {},
   "source": [
    "hand = PlayerHand()\n",
    "hand.put('H', '7')\n",
    "hand.put('D', '5')\n",
    "hand.put('S', '10')\n",
    "hand.put('S', '3')\n",
    "hand.put('C', '6')\n",
    "hand.put('S', '8')\n",
    "hand.put('C', 'K')\n",
    "hand.put('h','7') # make duplicate to see what happens when deleted"
   ]
  },
  {
   "cell_type": "markdown",
   "metadata": {},
   "source": [
    "print(hand.root)"
   ]
  },
  {
   "cell_type": "markdown",
   "metadata": {},
   "source": [
    "# delete a card and check structure of order\n",
    "hand.delete('c','6')"
   ]
  },
  {
   "cell_type": "markdown",
   "metadata": {},
   "source": [
    "print(hand.preOrder())"
   ]
  },
  {
   "cell_type": "markdown",
   "metadata": {},
   "source": [
    "# delete card with no right subtree and check structure\n",
    "hand.delete('c','k')"
   ]
  },
  {
   "cell_type": "markdown",
   "metadata": {},
   "source": [
    "print(hand.preOrder())"
   ]
  },
  {
   "cell_type": "markdown",
   "metadata": {},
   "source": [
    "print(hand.root.right)"
   ]
  },
  {
   "cell_type": "markdown",
   "metadata": {},
   "source": [
    "hand = PlayerHand()\n",
    "hand.put('H', '7')"
   ]
  },
  {
   "cell_type": "markdown",
   "metadata": {},
   "source": [
    "hand.delete('h','7')"
   ]
  },
  {
   "cell_type": "markdown",
   "metadata": {},
   "source": [
    "hand.isEmpty()"
   ]
  },
  {
   "cell_type": "markdown",
   "metadata": {},
   "source": [
    "hand = PlayerHand()\n",
    "hand.put('c','7')\n",
    "hand.put('c','5')\n",
    "hand.put('c','j')\n",
    "hand.put('c','9')\n",
    "hand.put('c','8')\n",
    "hand.put('c','10')\n",
    "hand.put('c','3')\n",
    "hand.put('c','6')"
   ]
  },
  {
   "cell_type": "markdown",
   "metadata": {},
   "source": [
    "print(hand.preOrder())"
   ]
  },
  {
   "cell_type": "markdown",
   "metadata": {},
   "source": [
    "print(hand.root.right)"
   ]
  },
  {
   "cell_type": "markdown",
   "metadata": {},
   "source": [
    "hand.delete('c','j') # no right subtree"
   ]
  },
  {
   "cell_type": "markdown",
   "metadata": {},
   "source": [
    "print(hand.preOrder())"
   ]
  },
  {
   "cell_type": "markdown",
   "metadata": {},
   "source": [
    "print(hand.root.right.right)"
   ]
  },
  {
   "cell_type": "markdown",
   "metadata": {},
   "source": [
    "print(hand.inOrder())"
   ]
  },
  {
   "cell_type": "markdown",
   "metadata": {},
   "source": [
    "hand = PlayerHand()\n",
    "hand.put('c','7')\n",
    "hand.put('c','9')\n",
    "hand.put('c','8')"
   ]
  },
  {
   "cell_type": "markdown",
   "metadata": {},
   "source": [
    "print(hand.root)"
   ]
  },
  {
   "cell_type": "markdown",
   "metadata": {},
   "source": [
    "dummycard = Card('c', '7')"
   ]
  },
  {
   "cell_type": "markdown",
   "metadata": {},
   "source": [
    "dummycard == hand.root"
   ]
  },
  {
   "cell_type": "markdown",
   "metadata": {},
   "source": [
    "# inOrder test\n",
    "hand = PlayerHand()\n",
    "hand.put('D', 'A')\n",
    "hand.put('S', 'K')\n",
    "hand.put('S', '2')\n",
    "hand.put('C', 'Q')\n",
    "hand.put('H', '7')\n",
    "hand.put('S', 'K')\n",
    "hand.put('C', 'K')\n",
    "hand.inOrder() == \\\n",
    "\"D A | 1\\n\\\n",
    "S 2 | 1\\n\\\n",
    "H 7 | 1\\n\\\n",
    "C Q | 1\\n\\\n",
    "C K | 1\\n\\\n",
    "S K | 2\\n\""
   ]
  },
  {
   "cell_type": "markdown",
   "metadata": {},
   "source": [
    "#preOrder() test\n",
    "hand = PlayerHand()\n",
    "hand.put('D', 'A')\n",
    "hand.put('S', 'K')\n",
    "hand.put('S', '2')\n",
    "hand.put('C', 'Q')\n",
    "hand.put('H', '7')\n",
    "hand.put('S', 'K')\n",
    "hand.put('C', 'K')\n",
    "\n",
    "hand.preOrder() == \\\n",
    "\"D A | 1\\n\\\n",
    "S K | 2\\n\\\n",
    "S 2 | 1\\n\\\n",
    "C Q | 1\\n\\\n",
    "H 7 | 1\\n\\\n",
    "C K | 1\\n\""
   ]
  },
  {
   "cell_type": "code",
   "execution_count": null,
   "metadata": {},
   "outputs": [],
   "source": []
  },
  {
   "cell_type": "markdown",
   "metadata": {},
   "source": []
  },
  {
   "cell_type": "code",
   "execution_count": null,
   "metadata": {},
   "outputs": [],
   "source": []
  },
  {
   "cell_type": "code",
   "execution_count": null,
   "metadata": {},
   "outputs": [],
   "source": []
  }
 ],
 "metadata": {
  "kernelspec": {
   "display_name": "Python 3",
   "language": "python",
   "name": "python3"
  },
  "language_info": {
   "codemirror_mode": {
    "name": "ipython",
    "version": 3
   },
   "file_extension": ".py",
   "mimetype": "text/x-python",
   "name": "python",
   "nbconvert_exporter": "python",
   "pygments_lexer": "ipython3",
   "version": "3.7.3"
  }
 },
 "nbformat": 4,
 "nbformat_minor": 4
}
